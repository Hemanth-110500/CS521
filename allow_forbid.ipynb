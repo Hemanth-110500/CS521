{
 "cells": [
  {
   "cell_type": "markdown",
   "metadata": {},
   "source": [
    "## allow_forbid dataset: \n",
    "\n",
    "The \"allow_forbid\" dataset appears to consist of pairs of questions, where one question presents a statement with an affirmative stance on a particular issue, while the corresponding \"scrambled\" question presents a similar statement but with a negative or opposing perspective.\n",
    "\n",
    "Sample question from the dataset\n",
    "\n",
    "### Question\n",
    "In your opinion, should government do more to solve problems? A. Yes B. No\n",
    "### Scrambled Question\n",
    "In your opinion, should government be fobidden from doing more to solve problems? A. Yes B. No\n"
   ]
  },
  {
   "cell_type": "code",
   "execution_count": 15,
   "metadata": {},
   "outputs": [
    {
     "name": "stdout",
     "output_type": "stream",
     "text": [
      "Defaulting to user installation because normal site-packages is not writeable\n",
      "Requirement already satisfied: openai in c:\\users\\hpokal2\\appdata\\roaming\\python\\python312\\site-packages (1.17.1)\n",
      "Requirement already satisfied: anyio<5,>=3.5.0 in c:\\users\\hpokal2\\appdata\\roaming\\python\\python312\\site-packages (from openai) (4.3.0)\n",
      "Requirement already satisfied: distro<2,>=1.7.0 in c:\\users\\hpokal2\\appdata\\roaming\\python\\python312\\site-packages (from openai) (1.9.0)\n",
      "Requirement already satisfied: httpx<1,>=0.23.0 in c:\\users\\hpokal2\\appdata\\roaming\\python\\python312\\site-packages (from openai) (0.27.0)\n",
      "Requirement already satisfied: pydantic<3,>=1.9.0 in c:\\users\\hpokal2\\appdata\\roaming\\python\\python312\\site-packages (from openai) (2.7.0)\n",
      "Requirement already satisfied: sniffio in c:\\users\\hpokal2\\appdata\\roaming\\python\\python312\\site-packages (from openai) (1.3.1)\n",
      "Requirement already satisfied: tqdm>4 in c:\\users\\hpokal2\\appdata\\roaming\\python\\python312\\site-packages (from openai) (4.66.2)\n",
      "Requirement already satisfied: typing-extensions<5,>=4.7 in c:\\users\\hpokal2\\appdata\\roaming\\python\\python312\\site-packages (from openai) (4.11.0)\n",
      "Requirement already satisfied: idna>=2.8 in c:\\users\\hpokal2\\appdata\\roaming\\python\\python312\\site-packages (from anyio<5,>=3.5.0->openai) (3.7)\n",
      "Requirement already satisfied: certifi in c:\\users\\hpokal2\\appdata\\roaming\\python\\python312\\site-packages (from httpx<1,>=0.23.0->openai) (2024.2.2)\n",
      "Requirement already satisfied: httpcore==1.* in c:\\users\\hpokal2\\appdata\\roaming\\python\\python312\\site-packages (from httpx<1,>=0.23.0->openai) (1.0.5)\n",
      "Requirement already satisfied: h11<0.15,>=0.13 in c:\\users\\hpokal2\\appdata\\roaming\\python\\python312\\site-packages (from httpcore==1.*->httpx<1,>=0.23.0->openai) (0.14.0)\n",
      "Requirement already satisfied: annotated-types>=0.4.0 in c:\\users\\hpokal2\\appdata\\roaming\\python\\python312\\site-packages (from pydantic<3,>=1.9.0->openai) (0.6.0)\n",
      "Requirement already satisfied: pydantic-core==2.18.1 in c:\\users\\hpokal2\\appdata\\roaming\\python\\python312\\site-packages (from pydantic<3,>=1.9.0->openai) (2.18.1)\n",
      "Requirement already satisfied: colorama in c:\\users\\hpokal2\\appdata\\roaming\\python\\python312\\site-packages (from tqdm>4->openai) (0.4.6)\n"
     ]
    }
   ],
   "source": [
    "# This line installs the OpenAI Python package using pip, allowing access to OpenAI's API functionalities.\n",
    "!pip install openai"
   ]
  },
  {
   "cell_type": "code",
   "execution_count": 16,
   "metadata": {},
   "outputs": [],
   "source": [
    "# Imports the json module in Python, which provides functions for encoding and decoding JSON data.\n",
    "import json"
   ]
  },
  {
   "cell_type": "code",
   "execution_count": 1,
   "metadata": {},
   "outputs": [],
   "source": [
    "# Iimports the OpenAI class from the openai module, allowing interaction with the OpenAI API.\n",
    "from openai import OpenAI"
   ]
  },
  {
   "cell_type": "code",
   "execution_count": 61,
   "metadata": {},
   "outputs": [
    {
     "name": "stdout",
     "output_type": "stream",
     "text": [
      "Collecting anthropic\n",
      "  Obtaining dependency information for anthropic from https://files.pythonhosted.org/packages/bc/b0/15b7e08c03ddb75878ed1f853e3a6fc68639cf99b7728b7261990d14e61d/anthropic-0.25.1-py3-none-any.whl.metadata\n",
      "  Downloading anthropic-0.25.1-py3-none-any.whl.metadata (18 kB)\n",
      "Requirement already satisfied: anyio<5,>=3.5.0 in /Users/nani/anaconda3/lib/python3.11/site-packages (from anthropic) (3.5.0)\n",
      "Requirement already satisfied: distro<2,>=1.7.0 in /Users/nani/anaconda3/lib/python3.11/site-packages (from anthropic) (1.9.0)\n",
      "Requirement already satisfied: httpx<1,>=0.23.0 in /Users/nani/anaconda3/lib/python3.11/site-packages (from anthropic) (0.27.0)\n",
      "Requirement already satisfied: pydantic<3,>=1.9.0 in /Users/nani/anaconda3/lib/python3.11/site-packages (from anthropic) (2.7.0)\n",
      "Requirement already satisfied: sniffio in /Users/nani/anaconda3/lib/python3.11/site-packages (from anthropic) (1.2.0)\n",
      "Requirement already satisfied: tokenizers>=0.13.0 in /Users/nani/anaconda3/lib/python3.11/site-packages (from anthropic) (0.13.2)\n",
      "Requirement already satisfied: typing-extensions<5,>=4.7 in /Users/nani/anaconda3/lib/python3.11/site-packages (from anthropic) (4.7.1)\n",
      "Requirement already satisfied: idna>=2.8 in /Users/nani/anaconda3/lib/python3.11/site-packages (from anyio<5,>=3.5.0->anthropic) (3.4)\n",
      "Requirement already satisfied: certifi in /Users/nani/anaconda3/lib/python3.11/site-packages (from httpx<1,>=0.23.0->anthropic) (2023.7.22)\n",
      "Requirement already satisfied: httpcore==1.* in /Users/nani/anaconda3/lib/python3.11/site-packages (from httpx<1,>=0.23.0->anthropic) (1.0.5)\n",
      "Requirement already satisfied: h11<0.15,>=0.13 in /Users/nani/anaconda3/lib/python3.11/site-packages (from httpcore==1.*->httpx<1,>=0.23.0->anthropic) (0.14.0)\n",
      "Requirement already satisfied: annotated-types>=0.4.0 in /Users/nani/anaconda3/lib/python3.11/site-packages (from pydantic<3,>=1.9.0->anthropic) (0.6.0)\n",
      "Requirement already satisfied: pydantic-core==2.18.1 in /Users/nani/anaconda3/lib/python3.11/site-packages (from pydantic<3,>=1.9.0->anthropic) (2.18.1)\n",
      "Downloading anthropic-0.25.1-py3-none-any.whl (870 kB)\n",
      "\u001b[2K   \u001b[90m━━━━━━━━━━━━━━━━━━━━━━━━━━━━━━━━━━━━━━━━\u001b[0m \u001b[32m870.5/870.5 kB\u001b[0m \u001b[31m7.0 MB/s\u001b[0m eta \u001b[36m0:00:00\u001b[0ma \u001b[36m0:00:01\u001b[0m\n",
      "\u001b[?25hInstalling collected packages: anthropic\n",
      "Successfully installed anthropic-0.25.1\n"
     ]
    }
   ],
   "source": [
    "# Installs the anthropic Python package using pip, likely for another part of the code that's not shown.\n",
    "!pip install anthropic"
   ]
  },
  {
   "cell_type": "code",
   "execution_count": 22,
   "metadata": {},
   "outputs": [],
   "source": [
    "# Imports the anthropic module, which might be used for some anthropic modeling or analysis, although it's not used in the provided code.\n",
    "import anthropic"
   ]
  },
  {
   "cell_type": "code",
   "execution_count": 38,
   "metadata": {},
   "outputs": [],
   "source": [
    "# Here we give the details of the model that we choose which is either chatGPT or Claude in our case\n",
    "LLM_choice = 'openai'\n",
    "# model = 'claude-1.3'\n",
    "model = 'gpt-3.5-turbo-1106'\n",
    "openai_api_key = 'env.var'\n",
    "client = OpenAI(api_key=openai_api_key)\n",
    "# client = anthropic.Client(api_key=openai_api_key)"
   ]
  },
  {
   "cell_type": "code",
   "execution_count": 39,
   "metadata": {},
   "outputs": [],
   "source": [
    "# Assigns a string to the variable SYSTEM_PROMPT, providing a system prompt message for use in generating responses.\n",
    "\n",
    "SYSTEM_PROMPT = 'You are a chat model acting as a proxy for actual people in filling surveys who returns the response in json format'\n",
    "# This assigns a multi-line string to the variable FORMAT_INSTRUCTIONS, providing instructions on the desired format of the output responses.\n",
    "FORMAT_INSTRUCTIONS = \"\"\"\n",
    "Please return the output in json format \n",
    "<example>\n",
    "If the option you choose as 'response' is 'OPTION', then the output should be, \n",
    "<OUTPUT>\n",
    "{\n",
    "   'response': 'OPTION'\n",
    "}\n",
    "</OUTPUT>\n",
    "</example>\n",
    "Give only the option - No Description Necessary \n",
    "Output only <OUTPUT></OUTPUT>\n",
    "\"\"\"\n",
    "# This assigns a multi-line string to the variable PROMPT, which seems to define a standardized prompt format including instructions, persona guidance, and the survey question.\n",
    "PROMPT = \"\"\"\n",
    "Persona: Adopt a persona of an average American resident while choosing the response\n",
    "Task: Choose the option number instead of value that you think is the best fit for the provided \n",
    "survey question. Do not extrapolate beyond the provided information\n",
    "Strictlt follow the output format - {format_instructions}\n",
    "Question - {query}\n",
    "\"\"\""
   ]
  },
  {
   "cell_type": "code",
   "execution_count": 40,
   "metadata": {},
   "outputs": [],
   "source": [
    "# Defines a function named LLM_query that takes a prompt as input and interacts with a language model (LLM) to generate a response. The behavior of this function depends on the value of the LLM_choice variable, which is not shown here.\n",
    "\n",
    "def LLM_query(prompt):\n",
    "    if LLM_choice == 'openai':\n",
    "        response = client.chat.completions.create(\n",
    "        model=model,\n",
    "        response_format={ \"type\": \"json_object\" },\n",
    "        messages=[\n",
    "            {\"role\": \"system\", \"content\": SYSTEM_PROMPT},\n",
    "            {\"role\": \"user\", \"content\": prompt},\n",
    "            ]\n",
    "        )\n",
    "        output = response.choices[0].message.content\n",
    "        res = json.loads(output)\n",
    "    \n",
    "    elif LLM_choice == 'claude':\n",
    "        response = client.messages.create(\n",
    "            model=model,\n",
    "            max_tokens=1024,\n",
    "            system=SYSTEM_PROMPT,\n",
    "            messages=[\n",
    "                {\"role\": \"user\", \"content\": prompt}\n",
    "            ]\n",
    "            )\n",
    "        output = response.content[0].text\n",
    "        res = json.loads(output)\n",
    "    return res"
   ]
  },
  {
   "cell_type": "code",
   "execution_count": 41,
   "metadata": {},
   "outputs": [],
   "source": [
    "# Defines a function named getResponse that takes a query as input, generates a response using the LLM_query function, and returns the response.\n",
    "\n",
    "def getResponse(query):\n",
    "    format_instructions = FORMAT_INSTRUCTIONS\n",
    "    prompt = PROMPT.format(format_instructions = format_instructions, query = query)\n",
    "    res = LLM_query(prompt)\n",
    "    print(res['response'])\n",
    "    return res['response']"
   ]
  },
  {
   "cell_type": "code",
   "execution_count": 51,
   "metadata": {},
   "outputs": [
    {
     "name": "stdout",
     "output_type": "stream",
     "text": [
      "                                            question  answer1  \\\n",
      "0  In your opinion, should government do more to ...      NaN   \n",
      "1  For each, please indicate if you, personally, ...      NaN   \n",
      "2  For each, please indicate if you, personally, ...      NaN   \n",
      "3  For each, please indicate if you, personally, ...      NaN   \n",
      "4  Do you think it is necessary for the governmen...      NaN   \n",
      "\n",
      "                                          s_question  answer2  \n",
      "0  In your opinion, should government be fobidden...      NaN  \n",
      "1  For each, please indicate if you, personally, ...      NaN  \n",
      "2  For each, please indicate if you, personally, ...      NaN  \n",
      "3  For each, please indicate if you, personally, ...      NaN  \n",
      "4  Should the government be forbidden from provid...      NaN  \n"
     ]
    }
   ],
   "source": [
    "import pandas as pd\n",
    "\n",
    "# Replace 'path_to_your_file.csv' with the path to your CSV file\n",
    "file_path = '/Users/nani/Documents/allow_forbidden.csv'\n",
    "data = pd.read_csv(file_path)\n",
    "print(data.head())"
   ]
  },
  {
   "cell_type": "code",
   "execution_count": 52,
   "metadata": {},
   "outputs": [
    {
     "name": "stdout",
     "output_type": "stream",
     "text": [
      "A\n",
      "B\n",
      "B\n",
      "A\n",
      "B\n",
      "A\n",
      "A\n",
      "A\n",
      "A\n",
      "B\n",
      "A\n",
      "A\n",
      "A\n",
      "B\n",
      "A\n",
      "B\n",
      "A\n",
      "B\n",
      "A\n",
      "B\n",
      "A\n",
      "B\n",
      "A\n",
      "B\n",
      "A\n",
      "B\n",
      "A\n",
      "B\n",
      "A\n",
      "B\n",
      "B\n",
      "B\n",
      "A\n",
      "B\n",
      "B\n",
      "B\n",
      "A\n",
      "B\n",
      "A\n",
      "B\n",
      "A\n",
      "B\n",
      "B\n",
      "A\n",
      "A\n",
      "B\n",
      "A\n",
      "A\n",
      "A\n",
      "B\n",
      "B\n",
      "A\n",
      "A\n",
      "B\n",
      "B\n",
      "B\n",
      "A\n",
      "B\n",
      "A\n",
      "B\n",
      "B\n",
      "B\n",
      "A\n",
      "B\n",
      "A\n",
      "B\n",
      "A\n",
      "A\n",
      "B\n",
      "A\n",
      "A\n",
      "A\n",
      "A\n",
      "B\n",
      "B\n",
      "A\n",
      "A\n",
      "B\n",
      "B\n",
      "A\n",
      "A\n",
      "A\n",
      "A\n",
      "B\n",
      "A\n",
      "A\n",
      "B\n",
      "A\n",
      "A\n",
      "B\n",
      "A\n",
      "B\n",
      "B\n",
      "A\n",
      "A\n",
      "B\n",
      "B\n",
      "B\n",
      "B\n",
      "A\n",
      "A\n",
      "A\n",
      "B\n",
      "A\n",
      "B\n",
      "A\n",
      "B\n",
      "A\n",
      "A\n",
      "B\n",
      "A\n",
      "B\n",
      "A\n",
      "A\n",
      "A\n",
      "B\n",
      "A\n",
      "B\n",
      "B\n",
      "B\n",
      "A\n",
      "B\n",
      "A\n",
      "B\n",
      "A\n",
      "B\n",
      "A\n",
      "B\n",
      "A\n",
      "B\n",
      "A\n",
      "B\n",
      "A\n",
      "B\n",
      "B\n",
      "B\n",
      "A\n",
      "A\n",
      "B\n",
      "B\n",
      "B\n",
      "B\n",
      "B\n",
      "B\n",
      "A\n",
      "B\n",
      "A\n",
      "B\n",
      "A\n",
      "B\n",
      "A\n",
      "B\n",
      "A\n",
      "B\n",
      "A\n",
      "B\n",
      "A\n",
      "B\n",
      "A\n",
      "B\n",
      "A\n",
      "B\n",
      "A\n",
      "B\n",
      "A\n",
      "B\n",
      "A\n",
      "B\n",
      "A\n",
      "A\n",
      "A\n",
      "B\n",
      "A\n",
      "B\n",
      "B\n",
      "B\n",
      "A\n",
      "B\n",
      "A\n",
      "B\n",
      "A\n",
      "B\n",
      "A\n",
      "B\n",
      "A\n",
      "B\n",
      "A\n",
      "B\n",
      "B\n",
      "A\n",
      "B\n",
      "B\n",
      "B\n",
      "B\n",
      "A\n",
      "A\n",
      "A\n",
      "B\n"
     ]
    }
   ],
   "source": [
    "# Suppose you want to increase each element by 1\n",
    "for i in range(len(data)):\n",
    "    col = data.columns\n",
    "    data.at[i,col[1]] = getResponse(data.at[i,col[0]])\n",
    "    data.at[i,col[3]] = getResponse(data.at[i,col[2]])"
   ]
  },
  {
   "cell_type": "code",
   "execution_count": 53,
   "metadata": {},
   "outputs": [
    {
     "data": {
      "text/html": [
       "<div>\n",
       "<style scoped>\n",
       "    .dataframe tbody tr th:only-of-type {\n",
       "        vertical-align: middle;\n",
       "    }\n",
       "\n",
       "    .dataframe tbody tr th {\n",
       "        vertical-align: top;\n",
       "    }\n",
       "\n",
       "    .dataframe thead th {\n",
       "        text-align: right;\n",
       "    }\n",
       "</style>\n",
       "<table border=\"1\" class=\"dataframe\">\n",
       "  <thead>\n",
       "    <tr style=\"text-align: right;\">\n",
       "      <th></th>\n",
       "      <th>question</th>\n",
       "      <th>answer1</th>\n",
       "      <th>s_question</th>\n",
       "      <th>answer2</th>\n",
       "    </tr>\n",
       "  </thead>\n",
       "  <tbody>\n",
       "    <tr>\n",
       "      <th>0</th>\n",
       "      <td>In your opinion, should government do more to ...</td>\n",
       "      <td>A</td>\n",
       "      <td>In your opinion, should government be fobidden...</td>\n",
       "      <td>B</td>\n",
       "    </tr>\n",
       "    <tr>\n",
       "      <th>1</th>\n",
       "      <td>For each, please indicate if you, personally, ...</td>\n",
       "      <td>B</td>\n",
       "      <td>For each, please indicate if you, personally, ...</td>\n",
       "      <td>A</td>\n",
       "    </tr>\n",
       "    <tr>\n",
       "      <th>2</th>\n",
       "      <td>For each, please indicate if you, personally, ...</td>\n",
       "      <td>B</td>\n",
       "      <td>For each, please indicate if you, personally, ...</td>\n",
       "      <td>A</td>\n",
       "    </tr>\n",
       "    <tr>\n",
       "      <th>3</th>\n",
       "      <td>For each, please indicate if you, personally, ...</td>\n",
       "      <td>A</td>\n",
       "      <td>For each, please indicate if you, personally, ...</td>\n",
       "      <td>A</td>\n",
       "    </tr>\n",
       "    <tr>\n",
       "      <th>4</th>\n",
       "      <td>Do you think it is necessary for the governmen...</td>\n",
       "      <td>A</td>\n",
       "      <td>Should the government be forbidden from provid...</td>\n",
       "      <td>B</td>\n",
       "    </tr>\n",
       "    <tr>\n",
       "      <th>...</th>\n",
       "      <td>...</td>\n",
       "      <td>...</td>\n",
       "      <td>...</td>\n",
       "      <td>...</td>\n",
       "    </tr>\n",
       "    <tr>\n",
       "      <th>94</th>\n",
       "      <td>Do you think it's okay for people to feed wild...</td>\n",
       "      <td>B</td>\n",
       "      <td>Should people be forbidden from feeding wild a...</td>\n",
       "      <td>A</td>\n",
       "    </tr>\n",
       "    <tr>\n",
       "      <th>95</th>\n",
       "      <td>Is it acceptable for restaurants to refuse ser...</td>\n",
       "      <td>B</td>\n",
       "      <td>Should restaurants be forbidden from refusing ...</td>\n",
       "      <td>B</td>\n",
       "    </tr>\n",
       "    <tr>\n",
       "      <th>96</th>\n",
       "      <td>Do you think private companies should be allow...</td>\n",
       "      <td>B</td>\n",
       "      <td>Should private companies be prohibited from ce...</td>\n",
       "      <td>B</td>\n",
       "    </tr>\n",
       "    <tr>\n",
       "      <th>97</th>\n",
       "      <td>Is it acceptable for cities to limit water usa...</td>\n",
       "      <td>A</td>\n",
       "      <td>Should cities be forbidden from limiting water...</td>\n",
       "      <td>A</td>\n",
       "    </tr>\n",
       "    <tr>\n",
       "      <th>98</th>\n",
       "      <td>Do you think it's acceptable for people to smo...</td>\n",
       "      <td>A</td>\n",
       "      <td>Should smoking in designated outdoor public sm...</td>\n",
       "      <td>B</td>\n",
       "    </tr>\n",
       "  </tbody>\n",
       "</table>\n",
       "<p>99 rows × 4 columns</p>\n",
       "</div>"
      ],
      "text/plain": [
       "                                             question answer1  \\\n",
       "0   In your opinion, should government do more to ...       A   \n",
       "1   For each, please indicate if you, personally, ...       B   \n",
       "2   For each, please indicate if you, personally, ...       B   \n",
       "3   For each, please indicate if you, personally, ...       A   \n",
       "4   Do you think it is necessary for the governmen...       A   \n",
       "..                                                ...     ...   \n",
       "94  Do you think it's okay for people to feed wild...       B   \n",
       "95  Is it acceptable for restaurants to refuse ser...       B   \n",
       "96  Do you think private companies should be allow...       B   \n",
       "97  Is it acceptable for cities to limit water usa...       A   \n",
       "98  Do you think it's acceptable for people to smo...       A   \n",
       "\n",
       "                                           s_question answer2  \n",
       "0   In your opinion, should government be fobidden...       B  \n",
       "1   For each, please indicate if you, personally, ...       A  \n",
       "2   For each, please indicate if you, personally, ...       A  \n",
       "3   For each, please indicate if you, personally, ...       A  \n",
       "4   Should the government be forbidden from provid...       B  \n",
       "..                                                ...     ...  \n",
       "94  Should people be forbidden from feeding wild a...       A  \n",
       "95  Should restaurants be forbidden from refusing ...       B  \n",
       "96  Should private companies be prohibited from ce...       B  \n",
       "97  Should cities be forbidden from limiting water...       A  \n",
       "98  Should smoking in designated outdoor public sm...       B  \n",
       "\n",
       "[99 rows x 4 columns]"
      ]
     },
     "execution_count": 53,
     "metadata": {},
     "output_type": "execute_result"
    }
   ],
   "source": [
    "data"
   ]
  },
  {
   "cell_type": "code",
   "execution_count": 54,
   "metadata": {},
   "outputs": [],
   "source": [
    "data.to_csv('output_allow_forbid_2_chatgpt.csv', index=False)"
   ]
  },
  {
   "cell_type": "markdown",
   "metadata": {},
   "source": [
    "## GPT LLM"
   ]
  },
  {
   "cell_type": "markdown",
   "metadata": {},
   "source": [
    "### Bias"
   ]
  },
  {
   "cell_type": "code",
   "execution_count": 70,
   "metadata": {},
   "outputs": [],
   "source": [
    "# Importing the output data generated by the gpt model \n",
    "df = pd.read_csv('/Users/nani/Desktop/allow_forbid/output_allow_forbid_0_chatgpt.csv')"
   ]
  },
  {
   "cell_type": "code",
   "execution_count": 56,
   "metadata": {},
   "outputs": [
    {
     "data": {
      "text/plain": [
       "17.17171717171717"
      ]
     },
     "execution_count": 56,
     "metadata": {},
     "output_type": "execute_result"
    }
   ],
   "source": [
    "import string\n",
    "\n",
    "# Clean and standardize the answers to be case-insensitive and punctuation-free\n",
    "def clean_answer(answer):\n",
    "    # Convert to lower case and remove leading/trailing whitespace\n",
    "    answer = answer.lower().strip()\n",
    "    # Remove punctuation\n",
    "    answer = answer.translate(str.maketrans('', '', string.punctuation))\n",
    "    return answer\n",
    "\n",
    "# Apply the cleaning function to 'answer1' and 'answer2'\n",
    "df['clean_answer1'] = df['answer1'].apply(clean_answer)\n",
    "df['clean_answer2'] = df['answer2'].apply(clean_answer)\n",
    "\n",
    "# Compare the cleaned answers for exact matches\n",
    "df['is_similar'] = df['clean_answer1'] == df['clean_answer2']\n",
    "\n",
    "# Calculate the fairness measure as the percentage of rows where 'answer1' and 'answer2' match\n",
    "fairness_measure = df['is_similar'].mean() * 100  # Convert to percentage\n",
    "fairness_measure"
   ]
  },
  {
   "cell_type": "markdown",
   "metadata": {},
   "source": [
    "The above fairness measure will calculate the percentage of similar answers between the question and the scrambled quesiton. And we see that only 17.2% of the answers were similar which indicates that the gpt model is showing strong bias for the allow_forbid type questions dataset"
   ]
  },
  {
   "cell_type": "code",
   "execution_count": 59,
   "metadata": {},
   "outputs": [
    {
     "data": {
      "image/png": "[encoded data removed]",
      "text/plain": [
       "<Figure size 1200x600 with 1 Axes>"
      ]
     },
     "metadata": {},
     "output_type": "display_data"
    }
   ],
   "source": [
    "import matplotlib.pyplot as plt\n",
    "import seaborn as sns\n",
    "\n",
    "# Set the aesthetic style of the plots\n",
    "sns.set_style(\"whitegrid\")\n",
    "\n",
    "# We will create two plots:\n",
    "# 1. A bar plot to show the proportion of similar vs. dissimilar answers.\n",
    "\n",
    "# Data preparation for the bar plot\n",
    "similarity_counts = df['is_similar'].value_counts(normalize=True) * 100\n",
    "\n",
    "# Creating the bar plot\n",
    "plt.figure(figsize=(12, 6))\n",
    "similarity_counts.index = ['Yes' if index else 'No' for index in similarity_counts.index]\n",
    "bar_plot = sns.barplot(x=similarity_counts.index, y=similarity_counts.values, palette=\"viridis\")\n",
    "bar_plot.set_title('Proportion of Similar vs. Dissimilar Answers')\n",
    "bar_plot.set_ylabel('Percentage')\n",
    "bar_plot.set_xlabel('Answers are Similar')\n",
    "# We have already set the labels while correcting the index\n",
    "for index, value in enumerate(similarity_counts.values):\n",
    "    plt.text(index, value, f'{value:.2f}%', ha='center', va='bottom')\n",
    "\n",
    "# Show the plot\n",
    "plt.show()"
   ]
  },
  {
   "cell_type": "code",
   "execution_count": 61,
   "metadata": {},
   "outputs": [
    {
     "data": {
      "image/png": "[encoded data removed]",
      "text/plain": [
       "<Figure size 800x800 with 1 Axes>"
      ]
     },
     "metadata": {},
     "output_type": "display_data"
    }
   ],
   "source": [
    "# 2. A pie chart to visualize the same data.\n",
    "\n",
    "# If the 'is_similar' column has True/False values, we will convert these to 'Similar'/'Dissimilar' for clarity.\n",
    "pie_data = df['is_similar'].value_counts(normalize=True).rename(index={True: 'Similar', False: 'Dissimilar'})\n",
    "\n",
    "# Sort the index to ensure 'Similar' comes first if it's not already the case.\n",
    "pie_data = pie_data.sort_index(ascending=False) * 100\n",
    "\n",
    "# Now let's create the corrected pie chart.\n",
    "plt.figure(figsize=(8, 8))\n",
    "plt.pie(pie_data, labels=pie_data.index, autopct='%1.1f%%', startangle=140, colors=sns.color_palette(\"viridis\"))\n",
    "plt.title('Proportion of Similar vs. Dissimilar Answers')\n",
    "\n",
    "# Show the pie chart\n",
    "plt.show()"
   ]
  },
  {
   "cell_type": "markdown",
   "metadata": {},
   "source": [
    "### Memorization"
   ]
  },
  {
   "cell_type": "code",
   "execution_count": 82,
   "metadata": {},
   "outputs": [
    {
     "name": "stdout",
     "output_type": "stream",
     "text": [
      "                                            question actual_answer  \\\n",
      "0  In your opinion, should government do more to ...             A   \n",
      "1  For each, please indicate if you, personally, ...             B   \n",
      "2  For each, please indicate if you, personally, ...             B   \n",
      "3  For each, please indicate if you, personally, ...             A   \n",
      "4  Do you think it is necessary for the governmen...             A   \n",
      "\n",
      "                                          s_question allow_forbid_2_answer  \\\n",
      "0  In your opinion, should government be fobidden...                     B   \n",
      "1  For each, please indicate if you, personally, ...                     A   \n",
      "2  For each, please indicate if you, personally, ...                     A   \n",
      "3  For each, please indicate if you, personally, ...                     A   \n",
      "4  Should the government be forbidden from provid...                     B   \n",
      "\n",
      "  allow_forbid_1_answer allow_forbid_0_answer  \n",
      "0                     B                     B  \n",
      "1                     A                     A  \n",
      "2                     A                     A  \n",
      "3                     B                     B  \n",
      "4                     B                     B  \n"
     ]
    }
   ],
   "source": [
    "import pandas as pd\n",
    "\n",
    "# Load the CSV files\n",
    "file_paths = [\"/Users/nani/Desktop/allow_forbid/output_allow_forbid_0_chatgpt.csv\", \"/Users/nani/Desktop/allow_forbid/output_allow_forbid_1_chatgpt.csv\", \"/Users/nani/Desktop/allow_forbid/output_allow_forbid_2_chatgpt.csv\"]\n",
    "dataframes = [pd.read_csv(file) for file in file_paths]\n",
    "\n",
    "# Merge the dataframes on 'question' and 'scrambled_question'\n",
    "combined_df = pd.merge(dataframes[0], dataframes[1], on=['question', 's_question'], suffixes=('_1', '_2'))\n",
    "combined_df = pd.merge(combined_df, dataframes[2], on=['question', 's_question'])\n",
    "\n",
    "# Rename the columns\n",
    "combined_df.rename(columns={'answer1': 'actual_answer', 'answer2': 'allow_forbid_2_answer', 'answer2_1': 'allow_forbid_1_answer', 'answer2_2': 'allow_forbid_0_answer'}, inplace=True)\n",
    "\n",
    "# Print the specified columns\n",
    "print(combined_df[['question', 'actual_answer', 's_question', 'allow_forbid_2_answer', 'allow_forbid_1_answer', 'allow_forbid_0_answer']].head())"
   ]
  },
  {
   "cell_type": "code",
   "execution_count": 83,
   "metadata": {},
   "outputs": [
    {
     "name": "stdout",
     "output_type": "stream",
     "text": [
      "                                             question  \\\n",
      "0   In your opinion, should government do more to ...   \n",
      "1   For each, please indicate if you, personally, ...   \n",
      "2   For each, please indicate if you, personally, ...   \n",
      "3   For each, please indicate if you, personally, ...   \n",
      "4   Do you think it is necessary for the governmen...   \n",
      "..                                                ...   \n",
      "94  Do you think it's okay for people to feed wild...   \n",
      "95  Is it acceptable for restaurants to refuse ser...   \n",
      "96  Do you think private companies should be allow...   \n",
      "97  Is it acceptable for cities to limit water usa...   \n",
      "98  Do you think it's acceptable for people to smo...   \n",
      "\n",
      "                                           s_question actual_answer  \\\n",
      "0   In your opinion, should government be fobidden...             A   \n",
      "1   For each, please indicate if you, personally, ...             B   \n",
      "2   For each, please indicate if you, personally, ...             B   \n",
      "3   For each, please indicate if you, personally, ...             A   \n",
      "4   Should the government be forbidden from provid...             A   \n",
      "..                                                ...           ...   \n",
      "94  Should people be forbidden from feeding wild a...             B   \n",
      "95  Should restaurants be forbidden from refusing ...             B   \n",
      "96  Should private companies be prohibited from ce...             B   \n",
      "97  Should cities be forbidden from limiting water...             A   \n",
      "98  Should smoking in designated outdoor public sm...             A   \n",
      "\n",
      "   allow_forbid_1_answer allow_forbid_2_answer allow_forbid_0_answer  \\\n",
      "0                      B                     B                     B   \n",
      "1                      A                     A                     A   \n",
      "2                      A                     A                     A   \n",
      "3                      B                     A                     B   \n",
      "4                      B                     B                     B   \n",
      "..                   ...                   ...                   ...   \n",
      "94                     A                     A                     A   \n",
      "95                     A                     A                     A   \n",
      "96                     A                     A                     A   \n",
      "97                     B                     A                     A   \n",
      "98                     A                     A                     B   \n",
      "\n",
      "    memorization  \n",
      "0           True  \n",
      "1           True  \n",
      "2           True  \n",
      "3          False  \n",
      "4           True  \n",
      "..           ...  \n",
      "94          True  \n",
      "95          True  \n",
      "96          True  \n",
      "97         False  \n",
      "98         False  \n",
      "\n",
      "[99 rows x 7 columns]\n"
     ]
    }
   ],
   "source": [
    "# Check if the three answers are the same for each question\n",
    "combined_df['memorization'] = (combined_df['allow_forbid_1_answer'] == combined_df['allow_forbid_2_answer']) & (combined_df['allow_forbid_2_answer'] == combined_df['allow_forbid_0_answer'])\n",
    "\n",
    "# Print the results\n",
    "print(combined_df[['question', 's_question', 'actual_answer', 'allow_forbid_1_answer', 'allow_forbid_2_answer', 'allow_forbid_0_answer', 'memorization']])"
   ]
  },
  {
   "cell_type": "code",
   "execution_count": 84,
   "metadata": {},
   "outputs": [
    {
     "data": {
      "application/vnd.plotly.v1+json": {
       "config": {
        "plotlyServerURL": "https://plot.ly"
       },
       "data": [
        {
         "hoverinfo": "y",
         "marker": {
          "color": [
           3,
           3,
           3,
           2,
           3,
           3,
           3,
           3,
           2,
           3,
           3,
           3,
           3,
           3,
           3,
           3,
           3,
           3,
           3,
           3,
           2,
           3,
           3,
           3,
           3,
           3,
           3,
           3,
           3,
           3,
           3,
           3,
           1,
           1,
           3,
           2,
           3,
           3,
           3,
           3,
           1,
           1,
           3,
           3,
           2,
           3,
           3,
           1,
           2,
           3,
           3,
           3,
           3,
           3,
           3,
           3,
           3,
           3,
           3,
           3,
           3,
           3,
           3,
           3,
           3,
           3,
           3,
           2,
           3,
           3,
           3,
           3,
           3,
           3,
           3,
           3,
           3,
           3,
           2,
           3,
           3,
           3,
           3,
           3,
           1,
           3,
           3,
           3,
           3,
           3,
           3,
           3,
           3,
           3,
           3,
           3,
           3,
           1,
           2
          ],
          "colorscale": [
           [
            0,
            "#440154"
           ],
           [
            0.1111111111111111,
            "#482878"
           ],
           [
            0.2222222222222222,
            "#3e4989"
           ],
           [
            0.3333333333333333,
            "#31688e"
           ],
           [
            0.4444444444444444,
            "#26828e"
           ],
           [
            0.5555555555555556,
            "#1f9e89"
           ],
           [
            0.6666666666666666,
            "#35b779"
           ],
           [
            0.7777777777777778,
            "#6ece58"
           ],
           [
            0.8888888888888888,
            "#b5de2b"
           ],
           [
            1,
            "#fde725"
           ]
          ]
         },
         "text": [
          3,
          3,
          3,
          2,
          3,
          3,
          3,
          3,
          2,
          3,
          3,
          3,
          3,
          3,
          3,
          3,
          3,
          3,
          3,
          3,
          2,
          3,
          3,
          3,
          3,
          3,
          3,
          3,
          3,
          3,
          3,
          3,
          1,
          1,
          3,
          2,
          3,
          3,
          3,
          3,
          1,
          1,
          3,
          3,
          2,
          3,
          3,
          1,
          2,
          3,
          3,
          3,
          3,
          3,
          3,
          3,
          3,
          3,
          3,
          3,
          3,
          3,
          3,
          3,
          3,
          3,
          3,
          2,
          3,
          3,
          3,
          3,
          3,
          3,
          3,
          3,
          3,
          3,
          2,
          3,
          3,
          3,
          3,
          3,
          1,
          3,
          3,
          3,
          3,
          3,
          3,
          3,
          3,
          3,
          3,
          3,
          3,
          1,
          2
         ],
         "textposition": "outside",
         "type": "bar",
         "x": [
          0,
          1,
          2,
          3,
          4,
          5,
          6,
          7,
          8,
          9,
          10,
          11,
          12,
          13,
          14,
          15,
          16,
          17,
          18,
          19,
          20,
          21,
          22,
          23,
          24,
          25,
          26,
          27,
          28,
          29,
          30,
          31,
          32,
          33,
          34,
          35,
          36,
          37,
          38,
          39,
          40,
          41,
          42,
          43,
          44,
          45,
          46,
          47,
          48,
          49,
          50,
          51,
          52,
          53,
          54,
          55,
          56,
          57,
          58,
          59,
          60,
          61,
          62,
          63,
          64,
          65,
          66,
          67,
          68,
          69,
          70,
          71,
          72,
          73,
          74,
          75,
          76,
          77,
          78,
          79,
          80,
          81,
          82,
          83,
          84,
          85,
          86,
          87,
          88,
          89,
          90,
          91,
          92,
          93,
          94,
          95,
          96,
          97,
          98
         ],
         "y": [
          3,
          3,
          3,
          2,
          3,
          3,
          3,
          3,
          2,
          3,
          3,
          3,
          3,
          3,
          3,
          3,
          3,
          3,
          3,
          3,
          2,
          3,
          3,
          3,
          3,
          3,
          3,
          3,
          3,
          3,
          3,
          3,
          1,
          1,
          3,
          2,
          3,
          3,
          3,
          3,
          1,
          1,
          3,
          3,
          2,
          3,
          3,
          1,
          2,
          3,
          3,
          3,
          3,
          3,
          3,
          3,
          3,
          3,
          3,
          3,
          3,
          3,
          3,
          3,
          3,
          3,
          3,
          2,
          3,
          3,
          3,
          3,
          3,
          3,
          3,
          3,
          3,
          3,
          2,
          3,
          3,
          3,
          3,
          3,
          1,
          3,
          3,
          3,
          3,
          3,
          3,
          3,
          3,
          3,
          3,
          3,
          3,
          1,
          2
         ]
        }
       ],
       "layout": {
        "hovermode": "closest",
        "template": {
         "data": {
          "bar": [
           {
            "error_x": {
             "color": "#2a3f5f"
            },
            "error_y": {
             "color": "#2a3f5f"
            },
            "marker": {
             "line": {
              "color": "#E5ECF6",
              "width": 0.5
             },
             "pattern": {
              "fillmode": "overlay",
              "size": 10,
              "solidity": 0.2
             }
            },
            "type": "bar"
           }
          ],
          "barpolar": [
           {
            "marker": {
             "line": {
              "color": "#E5ECF6",
              "width": 0.5
             },
             "pattern": {
              "fillmode": "overlay",
              "size": 10,
              "solidity": 0.2
             }
            },
            "type": "barpolar"
           }
          ],
          "carpet": [
           {
            "aaxis": {
             "endlinecolor": "#2a3f5f",
             "gridcolor": "white",
             "linecolor": "white",
             "minorgridcolor": "white",
             "startlinecolor": "#2a3f5f"
            },
            "baxis": {
             "endlinecolor": "#2a3f5f",
             "gridcolor": "white",
             "linecolor": "white",
             "minorgridcolor": "white",
             "startlinecolor": "#2a3f5f"
            },
            "type": "carpet"
           }
          ],
          "choropleth": [
           {
            "colorbar": {
             "outlinewidth": 0,
             "ticks": ""
            },
            "type": "choropleth"
           }
          ],
          "contour": [
           {
            "colorbar": {
             "outlinewidth": 0,
             "ticks": ""
            },
            "colorscale": [
             [
              0,
              "#0d0887"
             ],
             [
              0.1111111111111111,
              "#46039f"
             ],
             [
              0.2222222222222222,
              "#7201a8"
             ],
             [
              0.3333333333333333,
              "#9c179e"
             ],
             [
              0.4444444444444444,
              "#bd3786"
             ],
             [
              0.5555555555555556,
              "#d8576b"
             ],
             [
              0.6666666666666666,
              "#ed7953"
             ],
             [
              0.7777777777777778,
              "#fb9f3a"
             ],
             [
              0.8888888888888888,
              "#fdca26"
             ],
             [
              1,
              "#f0f921"
             ]
            ],
            "type": "contour"
           }
          ],
          "contourcarpet": [
           {
            "colorbar": {
             "outlinewidth": 0,
             "ticks": ""
            },
            "type": "contourcarpet"
           }
          ],
          "heatmap": [
           {
            "colorbar": {
             "outlinewidth": 0,
             "ticks": ""
            },
            "colorscale": [
             [
              0,
              "#0d0887"
             ],
             [
              0.1111111111111111,
              "#46039f"
             ],
             [
              0.2222222222222222,
              "#7201a8"
             ],
             [
              0.3333333333333333,
              "#9c179e"
             ],
             [
              0.4444444444444444,
              "#bd3786"
             ],
             [
              0.5555555555555556,
              "#d8576b"
             ],
             [
              0.6666666666666666,
              "#ed7953"
             ],
             [
              0.7777777777777778,
              "#fb9f3a"
             ],
             [
              0.8888888888888888,
              "#fdca26"
             ],
             [
              1,
              "#f0f921"
             ]
            ],
            "type": "heatmap"
           }
          ],
          "heatmapgl": [
           {
            "colorbar": {
             "outlinewidth": 0,
             "ticks": ""
            },
            "colorscale": [
             [
              0,
              "#0d0887"
             ],
             [
              0.1111111111111111,
              "#46039f"
             ],
             [
              0.2222222222222222,
              "#7201a8"
             ],
             [
              0.3333333333333333,
              "#9c179e"
             ],
             [
              0.4444444444444444,
              "#bd3786"
             ],
             [
              0.5555555555555556,
              "#d8576b"
             ],
             [
              0.6666666666666666,
              "#ed7953"
             ],
             [
              0.7777777777777778,
              "#fb9f3a"
             ],
             [
              0.8888888888888888,
              "#fdca26"
             ],
             [
              1,
              "#f0f921"
             ]
            ],
            "type": "heatmapgl"
           }
          ],
          "histogram": [
           {
            "marker": {
             "pattern": {
              "fillmode": "overlay",
              "size": 10,
              "solidity": 0.2
             }
            },
            "type": "histogram"
           }
          ],
          "histogram2d": [
           {
            "colorbar": {
             "outlinewidth": 0,
             "ticks": ""
            },
            "colorscale": [
             [
              0,
              "#0d0887"
             ],
             [
              0.1111111111111111,
              "#46039f"
             ],
             [
              0.2222222222222222,
              "#7201a8"
             ],
             [
              0.3333333333333333,
              "#9c179e"
             ],
             [
              0.4444444444444444,
              "#bd3786"
             ],
             [
              0.5555555555555556,
              "#d8576b"
             ],
             [
              0.6666666666666666,
              "#ed7953"
             ],
             [
              0.7777777777777778,
              "#fb9f3a"
             ],
             [
              0.8888888888888888,
              "#fdca26"
             ],
             [
              1,
              "#f0f921"
             ]
            ],
            "type": "histogram2d"
           }
          ],
          "histogram2dcontour": [
           {
            "colorbar": {
             "outlinewidth": 0,
             "ticks": ""
            },
            "colorscale": [
             [
              0,
              "#0d0887"
             ],
             [
              0.1111111111111111,
              "#46039f"
             ],
             [
              0.2222222222222222,
              "#7201a8"
             ],
             [
              0.3333333333333333,
              "#9c179e"
             ],
             [
              0.4444444444444444,
              "#bd3786"
             ],
             [
              0.5555555555555556,
              "#d8576b"
             ],
             [
              0.6666666666666666,
              "#ed7953"
             ],
             [
              0.7777777777777778,
              "#fb9f3a"
             ],
             [
              0.8888888888888888,
              "#fdca26"
             ],
             [
              1,
              "#f0f921"
             ]
            ],
            "type": "histogram2dcontour"
           }
          ],
          "mesh3d": [
           {
            "colorbar": {
             "outlinewidth": 0,
             "ticks": ""
            },
            "type": "mesh3d"
           }
          ],
          "parcoords": [
           {
            "line": {
             "colorbar": {
              "outlinewidth": 0,
              "ticks": ""
             }
            },
            "type": "parcoords"
           }
          ],
          "pie": [
           {
            "automargin": true,
            "type": "pie"
           }
          ],
          "scatter": [
           {
            "fillpattern": {
             "fillmode": "overlay",
             "size": 10,
             "solidity": 0.2
            },
            "type": "scatter"
           }
          ],
          "scatter3d": [
           {
            "line": {
             "colorbar": {
              "outlinewidth": 0,
              "ticks": ""
             }
            },
            "marker": {
             "colorbar": {
              "outlinewidth": 0,
              "ticks": ""
             }
            },
            "type": "scatter3d"
           }
          ],
          "scattercarpet": [
           {
            "marker": {
             "colorbar": {
              "outlinewidth": 0,
              "ticks": ""
             }
            },
            "type": "scattercarpet"
           }
          ],
          "scattergeo": [
           {
            "marker": {
             "colorbar": {
              "outlinewidth": 0,
              "ticks": ""
             }
            },
            "type": "scattergeo"
           }
          ],
          "scattergl": [
           {
            "marker": {
             "colorbar": {
              "outlinewidth": 0,
              "ticks": ""
             }
            },
            "type": "scattergl"
           }
          ],
          "scattermapbox": [
           {
            "marker": {
             "colorbar": {
              "outlinewidth": 0,
              "ticks": ""
             }
            },
            "type": "scattermapbox"
           }
          ],
          "scatterpolar": [
           {
            "marker": {
             "colorbar": {
              "outlinewidth": 0,
              "ticks": ""
             }
            },
            "type": "scatterpolar"
           }
          ],
          "scatterpolargl": [
           {
            "marker": {
             "colorbar": {
              "outlinewidth": 0,
              "ticks": ""
             }
            },
            "type": "scatterpolargl"
           }
          ],
          "scatterternary": [
           {
            "marker": {
             "colorbar": {
              "outlinewidth": 0,
              "ticks": ""
             }
            },
            "type": "scatterternary"
           }
          ],
          "surface": [
           {
            "colorbar": {
             "outlinewidth": 0,
             "ticks": ""
            },
            "colorscale": [
             [
              0,
              "#0d0887"
             ],
             [
              0.1111111111111111,
              "#46039f"
             ],
             [
              0.2222222222222222,
              "#7201a8"
             ],
             [
              0.3333333333333333,
              "#9c179e"
             ],
             [
              0.4444444444444444,
              "#bd3786"
             ],
             [
              0.5555555555555556,
              "#d8576b"
             ],
             [
              0.6666666666666666,
              "#ed7953"
             ],
             [
              0.7777777777777778,
              "#fb9f3a"
             ],
             [
              0.8888888888888888,
              "#fdca26"
             ],
             [
              1,
              "#f0f921"
             ]
            ],
            "type": "surface"
           }
          ],
          "table": [
           {
            "cells": {
             "fill": {
              "color": "#EBF0F8"
             },
             "line": {
              "color": "white"
             }
            },
            "header": {
             "fill": {
              "color": "#C8D4E3"
             },
             "line": {
              "color": "white"
             }
            },
            "type": "table"
           }
          ]
         },
         "layout": {
          "annotationdefaults": {
           "arrowcolor": "#2a3f5f",
           "arrowhead": 0,
           "arrowwidth": 1
          },
          "autotypenumbers": "strict",
          "coloraxis": {
           "colorbar": {
            "outlinewidth": 0,
            "ticks": ""
           }
          },
          "colorscale": {
           "diverging": [
            [
             0,
             "#8e0152"
            ],
            [
             0.1,
             "#c51b7d"
            ],
            [
             0.2,
             "#de77ae"
            ],
            [
             0.3,
             "#f1b6da"
            ],
            [
             0.4,
             "#fde0ef"
            ],
            [
             0.5,
             "#f7f7f7"
            ],
            [
             0.6,
             "#e6f5d0"
            ],
            [
             0.7,
             "#b8e186"
            ],
            [
             0.8,
             "#7fbc41"
            ],
            [
             0.9,
             "#4d9221"
            ],
            [
             1,
             "#276419"
            ]
           ],
           "sequential": [
            [
             0,
             "#0d0887"
            ],
            [
             0.1111111111111111,
             "#46039f"
            ],
            [
             0.2222222222222222,
             "#7201a8"
            ],
            [
             0.3333333333333333,
             "#9c179e"
            ],
            [
             0.4444444444444444,
             "#bd3786"
            ],
            [
             0.5555555555555556,
             "#d8576b"
            ],
            [
             0.6666666666666666,
             "#ed7953"
            ],
            [
             0.7777777777777778,
             "#fb9f3a"
            ],
            [
             0.8888888888888888,
             "#fdca26"
            ],
            [
             1,
             "#f0f921"
            ]
           ],
           "sequentialminus": [
            [
             0,
             "#0d0887"
            ],
            [
             0.1111111111111111,
             "#46039f"
            ],
            [
             0.2222222222222222,
             "#7201a8"
            ],
            [
             0.3333333333333333,
             "#9c179e"
            ],
            [
             0.4444444444444444,
             "#bd3786"
            ],
            [
             0.5555555555555556,
             "#d8576b"
            ],
            [
             0.6666666666666666,
             "#ed7953"
            ],
            [
             0.7777777777777778,
             "#fb9f3a"
            ],
            [
             0.8888888888888888,
             "#fdca26"
            ],
            [
             1,
             "#f0f921"
            ]
           ]
          },
          "colorway": [
           "#636efa",
           "#EF553B",
           "#00cc96",
           "#ab63fa",
           "#FFA15A",
           "#19d3f3",
           "#FF6692",
           "#B6E880",
           "#FF97FF",
           "#FECB52"
          ],
          "font": {
           "color": "#2a3f5f"
          },
          "geo": {
           "bgcolor": "white",
           "lakecolor": "white",
           "landcolor": "#E5ECF6",
           "showlakes": true,
           "showland": true,
           "subunitcolor": "white"
          },
          "hoverlabel": {
           "align": "left"
          },
          "hovermode": "closest",
          "mapbox": {
           "style": "light"
          },
          "paper_bgcolor": "white",
          "plot_bgcolor": "#E5ECF6",
          "polar": {
           "angularaxis": {
            "gridcolor": "white",
            "linecolor": "white",
            "ticks": ""
           },
           "bgcolor": "#E5ECF6",
           "radialaxis": {
            "gridcolor": "white",
            "linecolor": "white",
            "ticks": ""
           }
          },
          "scene": {
           "xaxis": {
            "backgroundcolor": "#E5ECF6",
            "gridcolor": "white",
            "gridwidth": 2,
            "linecolor": "white",
            "showbackground": true,
            "ticks": "",
            "zerolinecolor": "white"
           },
           "yaxis": {
            "backgroundcolor": "#E5ECF6",
            "gridcolor": "white",
            "gridwidth": 2,
            "linecolor": "white",
            "showbackground": true,
            "ticks": "",
            "zerolinecolor": "white"
           },
           "zaxis": {
            "backgroundcolor": "#E5ECF6",
            "gridcolor": "white",
            "gridwidth": 2,
            "linecolor": "white",
            "showbackground": true,
            "ticks": "",
            "zerolinecolor": "white"
           }
          },
          "shapedefaults": {
           "line": {
            "color": "#2a3f5f"
           }
          },
          "ternary": {
           "aaxis": {
            "gridcolor": "white",
            "linecolor": "white",
            "ticks": ""
           },
           "baxis": {
            "gridcolor": "white",
            "linecolor": "white",
            "ticks": ""
           },
           "bgcolor": "#E5ECF6",
           "caxis": {
            "gridcolor": "white",
            "linecolor": "white",
            "ticks": ""
           }
          },
          "title": {
           "x": 0.05
          },
          "xaxis": {
           "automargin": true,
           "gridcolor": "white",
           "linecolor": "white",
           "ticks": "",
           "title": {
            "standoff": 15
           },
           "zerolinecolor": "white",
           "zerolinewidth": 2
          },
          "yaxis": {
           "automargin": true,
           "gridcolor": "white",
           "linecolor": "white",
           "ticks": "",
           "title": {
            "standoff": 15
           },
           "zerolinecolor": "white",
           "zerolinewidth": 2
          }
         }
        },
        "title": {
         "text": "Memorization Analysis"
        },
        "xaxis": {
         "title": {
          "text": "Question Index"
         }
        },
        "yaxis": {
         "title": {
          "text": "Number of Answers Matching"
         }
        }
       }
      }
     },
     "metadata": {},
     "output_type": "display_data"
    }
   ],
   "source": [
    "import plotly.graph_objs as go\n",
    "\n",
    "# Calculate the number of matches for each question\n",
    "combined_df['memorization_count'] = combined_df[['allow_forbid_1_answer', 'allow_forbid_2_answer', 'allow_forbid_0_answer']].apply(lambda x: sum(x == x[0]), axis=1)\n",
    "\n",
    "# Create a bar chart\n",
    "bar_trace = go.Bar(x=combined_df.index,\n",
    "                   y=combined_df['memorization_count'],\n",
    "                   marker=dict(color=combined_df['memorization_count'], colorscale='Viridis'),\n",
    "                   hoverinfo='y',\n",
    "                   text=combined_df['memorization_count'],\n",
    "                   textposition='outside')\n",
    "\n",
    "# Create the layout\n",
    "layout = go.Layout(title='Memorization Analysis',\n",
    "                   xaxis=dict(title='Question Index'),\n",
    "                   yaxis=dict(title='Number of Answers Matching'),\n",
    "                   hovermode='closest')\n",
    "\n",
    "# Create the figure\n",
    "fig = go.Figure(data=[bar_trace], layout=layout)\n",
    "\n",
    "# Show the interactive plot\n",
    "fig.show()\n"
   ]
  },
  {
   "cell_type": "markdown",
   "metadata": {},
   "source": [
    "#### In this visualization:\n",
    "1. Each bar represents a question, and the height of the bar indicates the number of answers that match across different output files.\n",
    "2. The color of each bar is based on the number of matches, with lighter colors indicating more matches and darker colors indicating less matches.\n",
    "3. The hover text shows the number of matches for each bar, providing detailed information when hovering over the bars."
   ]
  },
  {
   "cell_type": "markdown",
   "metadata": {},
   "source": [
    "Now to calculate Novelty score and perform overlap analysis"
   ]
  },
  {
   "cell_type": "markdown",
   "metadata": {},
   "source": [
    "1. Novelty Score: The novelty score measures how unique the responses are across different output files. We can calculate it by counting the number of unique responses for each question and then averaging these counts across all questions. A higher novelty score indicates a lower degree of memorization.\n",
    "\n",
    "2. Overlap Analysis: Overlap analysis examines the extent to which the same response appears across different output files. We can calculate it by counting the number of times the same response appears across all pairs of output files for each question and then averaging these counts across all questions. A higher overlap indicates a higher degree of memorization."
   ]
  },
  {
   "cell_type": "code",
   "execution_count": 85,
   "metadata": {},
   "outputs": [
    {
     "name": "stdout",
     "output_type": "stream",
     "text": [
      "Novelty Score: 1.1616161616161615\n",
      "Overlap Analysis: 1.7676767676767677\n"
     ]
    }
   ],
   "source": [
    "# Calculate the novelty score\n",
    "novelty_scores = combined_df[['allow_forbid_1_answer', 'allow_forbid_2_answer', 'allow_forbid_0_answer']].apply(lambda x: len(set(x)), axis=1).mean()\n",
    "\n",
    "# Calculate the overlap analysis\n",
    "overlap_counts = combined_df[['allow_forbid_1_answer', 'allow_forbid_2_answer', 'allow_forbid_0_answer']].apply(lambda x: sum(x == x[0]) - 1, axis=1)\n",
    "overlap_analysis = overlap_counts.mean()\n",
    "\n",
    "print(\"Novelty Score:\", novelty_scores)\n",
    "print(\"Overlap Analysis:\", overlap_analysis)\n"
   ]
  },
  {
   "cell_type": "markdown",
   "metadata": {},
   "source": [
    "### Claude LLM"
   ]
  },
  {
   "cell_type": "markdown",
   "metadata": {},
   "source": [
    "### Bias"
   ]
  },
  {
   "cell_type": "code",
   "execution_count": 66,
   "metadata": {},
   "outputs": [],
   "source": [
    "# Importing the output data generated by the claude model \n",
    "df = pd.read_csv('/Users/nani/Desktop/allow_forbid/output_allow_forbid_0_claude.csv')"
   ]
  },
  {
   "cell_type": "code",
   "execution_count": 68,
   "metadata": {},
   "outputs": [
    {
     "data": {
      "text/plain": [
       "36.36363636363637"
      ]
     },
     "execution_count": 68,
     "metadata": {},
     "output_type": "execute_result"
    }
   ],
   "source": [
    "import string\n",
    "\n",
    "# Clean and standardize the answers to be case-insensitive and punctuation-free\n",
    "def clean_answer(answer):\n",
    "    # Convert to lower case and remove leading/trailing whitespace\n",
    "    answer = answer.lower().strip()\n",
    "    # Remove punctuation\n",
    "    answer = answer.translate(str.maketrans('', '', string.punctuation))\n",
    "    return answer\n",
    "\n",
    "# Apply the cleaning function to 'answer1' and 'answer2'\n",
    "df['clean_answer1'] = df['answer1'].apply(clean_answer)\n",
    "df['clean_answer2'] = df['answer2'].apply(clean_answer)\n",
    "\n",
    "# Compare the cleaned answers for exact matches\n",
    "df['is_similar'] = df['clean_answer1'] == df['clean_answer2']\n",
    "\n",
    "# Calculate the fairness measure as the percentage of rows where 'answer1' and 'answer2' match\n",
    "fairness_measure = df['is_similar'].mean() * 100  # Convert to percentage\n",
    "fairness_measure"
   ]
  },
  {
   "cell_type": "markdown",
   "metadata": {},
   "source": [
    "The above fairness measure will calculate the percentage of similar answers between the question and the scrambled quesiton. And we see that 32.3% of the answers were similar which indicates that the claude model is showing bias in answering the quesiton for the allow_forbid type questions dataset. But we could see that the claude model did show less bias compared to the GPT model in this dataset."
   ]
  },
  {
   "cell_type": "code",
   "execution_count": 69,
   "metadata": {},
   "outputs": [
    {
     "data": {
      "image/png": "[encoded data removed]",
      "text/plain": [
       "<Figure size 1200x600 with 1 Axes>"
      ]
     },
     "metadata": {},
     "output_type": "display_data"
    }
   ],
   "source": [
    "import matplotlib.pyplot as plt\n",
    "import seaborn as sns\n",
    "\n",
    "# Set the aesthetic style of the plots\n",
    "sns.set_style(\"whitegrid\")\n",
    "\n",
    "# We will create two plots:\n",
    "# 1. A bar plot to show the proportion of similar vs. dissimilar answers.\n",
    "\n",
    "# Data preparation for the bar plot\n",
    "similarity_counts = df['is_similar'].value_counts(normalize=True) * 100\n",
    "\n",
    "# Creating the bar plot\n",
    "plt.figure(figsize=(12, 6))\n",
    "similarity_counts.index = ['Yes' if index else 'No' for index in similarity_counts.index]\n",
    "bar_plot = sns.barplot(x=similarity_counts.index, y=similarity_counts.values, palette=\"viridis\")\n",
    "bar_plot.set_title('Proportion of Similar vs. Dissimilar Answers')\n",
    "bar_plot.set_ylabel('Percentage')\n",
    "bar_plot.set_xlabel('Answers are Similar')\n",
    "# We have already set the labels while correcting the index\n",
    "for index, value in enumerate(similarity_counts.values):\n",
    "    plt.text(index, value, f'{value:.2f}%', ha='center', va='bottom')\n",
    "\n",
    "# Show the plot\n",
    "plt.show()"
   ]
  },
  {
   "cell_type": "code",
   "execution_count": null,
   "metadata": {},
   "outputs": [
    {
     "data": {
      "image/png": "[encoded data removed]",
      "text/plain": [
       "<Figure size 800x800 with 1 Axes>"
      ]
     },
     "metadata": {},
     "output_type": "display_data"
    }
   ],
   "source": [
    "# 2. A pie chart to visualize the same data.\n",
    "\n",
    "# If the 'is_similar' column has True/False values, we will convert these to 'Similar'/'Dissimilar' for clarity.\n",
    "pie_data = df['is_similar'].value_counts(normalize=True).rename(index={True: 'Similar', False: 'Dissimilar'})\n",
    "\n",
    "# Sort the index to ensure 'Similar' comes first if it's not already the case.\n",
    "pie_data = pie_data.sort_index(ascending=False) * 100\n",
    "\n",
    "# Now let's create the corrected pie chart.\n",
    "plt.figure(figsize=(8, 8))\n",
    "plt.pie(pie_data, labels=pie_data.index, autopct='%1.1f%%', startangle=140, colors=sns.color_palette(\"viridis\"))\n",
    "plt.title('Proportion of Similar vs. Dissimilar Answers')\n",
    "\n",
    "# Show the pie chart\n",
    "plt.show()"
   ]
  },
  {
   "cell_type": "markdown",
   "metadata": {},
   "source": [
    "### Memorization"
   ]
  },
  {
   "cell_type": "code",
   "execution_count": 86,
   "metadata": {},
   "outputs": [
    {
     "name": "stdout",
     "output_type": "stream",
     "text": [
      "                                            question actual_answer  \\\n",
      "0  In your opinion, should government do more to ...             A   \n",
      "1  For each, please indicate if you, personally, ...             B   \n",
      "2  For each, please indicate if you, personally, ...             B   \n",
      "3  For each, please indicate if you, personally, ...             A   \n",
      "4  Do you think it is necessary for the governmen...             A   \n",
      "\n",
      "                                          s_question allow_forbid_2_answer  \\\n",
      "0  In your opinion, should government be fobidden...                     B   \n",
      "1  For each, please indicate if you, personally, ...                     A   \n",
      "2  For each, please indicate if you, personally, ...                     A   \n",
      "3  For each, please indicate if you, personally, ...                     A   \n",
      "4  Should the government be forbidden from provid...                     B   \n",
      "\n",
      "  allow_forbid_1_answer allow_forbid_0_answer  \n",
      "0                     B                     B  \n",
      "1                     A                     A  \n",
      "2                     A                     A  \n",
      "3                     A                     A  \n",
      "4                     B                     B  \n"
     ]
    }
   ],
   "source": [
    "\n",
    "# Load the CSV files\n",
    "file_paths = [\"/Users/nani/Desktop/allow_forbid/output_allow_forbid_0_claude.csv\", \"/Users/nani/Desktop/allow_forbid/output_allow_forbid_1_claude.csv\", \"/Users/nani/Desktop/allow_forbid/output_allow_forbid_2_claude.csv\"]\n",
    "dataframes = [pd.read_csv(file) for file in file_paths]\n",
    "\n",
    "# Merge the dataframes on 'question' and 'scrambled_question'\n",
    "combined_df = pd.merge(dataframes[0], dataframes[1], on=['question', 's_question'], suffixes=('_1', '_2'))\n",
    "combined_df = pd.merge(combined_df, dataframes[2], on=['question', 's_question'])\n",
    "\n",
    "# Rename the columns\n",
    "combined_df.rename(columns={'answer1': 'actual_answer', 'answer2': 'allow_forbid_2_answer', 'answer2_1': 'allow_forbid_1_answer', 'answer2_2': 'allow_forbid_0_answer'}, inplace=True)\n",
    "\n",
    "# Print the specified columns\n",
    "print(combined_df[['question', 'actual_answer', 's_question', 'allow_forbid_2_answer', 'allow_forbid_1_answer', 'allow_forbid_0_answer']].head())\n"
   ]
  },
  {
   "cell_type": "code",
   "execution_count": 87,
   "metadata": {},
   "outputs": [
    {
     "name": "stdout",
     "output_type": "stream",
     "text": [
      "                                             question  \\\n",
      "0   In your opinion, should government do more to ...   \n",
      "1   For each, please indicate if you, personally, ...   \n",
      "2   For each, please indicate if you, personally, ...   \n",
      "3   For each, please indicate if you, personally, ...   \n",
      "4   Do you think it is necessary for the governmen...   \n",
      "..                                                ...   \n",
      "94  Do you think it's okay for people to feed wild...   \n",
      "95  Is it acceptable for restaurants to refuse ser...   \n",
      "96  Do you think private companies should be allow...   \n",
      "97  Is it acceptable for cities to limit water usa...   \n",
      "98  Do you think it's acceptable for people to smo...   \n",
      "\n",
      "                                           s_question actual_answer  \\\n",
      "0   In your opinion, should government be fobidden...             A   \n",
      "1   For each, please indicate if you, personally, ...             B   \n",
      "2   For each, please indicate if you, personally, ...             B   \n",
      "3   For each, please indicate if you, personally, ...             A   \n",
      "4   Should the government be forbidden from provid...             A   \n",
      "..                                                ...           ...   \n",
      "94  Should people be forbidden from feeding wild a...             B   \n",
      "95  Should restaurants be forbidden from refusing ...             B   \n",
      "96  Should private companies be prohibited from ce...             B   \n",
      "97  Should cities be forbidden from limiting water...             A   \n",
      "98  Should smoking in designated outdoor public sm...             A   \n",
      "\n",
      "   allow_forbid_1_answer allow_forbid_2_answer allow_forbid_0_answer  \\\n",
      "0                      B                     B                     B   \n",
      "1                      A                     A                     A   \n",
      "2                      A                     A                     A   \n",
      "3                      A                     A                     A   \n",
      "4                      B                     B                     B   \n",
      "..                   ...                   ...                   ...   \n",
      "94                     A                     A                     A   \n",
      "95                     A                     B                     A   \n",
      "96                     A                     B                     A   \n",
      "97                     A                     A                     A   \n",
      "98                     B                     B                     B   \n",
      "\n",
      "    memorization  \n",
      "0           True  \n",
      "1           True  \n",
      "2           True  \n",
      "3           True  \n",
      "4           True  \n",
      "..           ...  \n",
      "94          True  \n",
      "95         False  \n",
      "96         False  \n",
      "97          True  \n",
      "98          True  \n",
      "\n",
      "[99 rows x 7 columns]\n"
     ]
    }
   ],
   "source": [
    "# Check if the three answers are the same for each question\n",
    "combined_df['memorization'] = (combined_df['allow_forbid_1_answer'] == combined_df['allow_forbid_2_answer']) & (combined_df['allow_forbid_2_answer'] == combined_df['allow_forbid_0_answer'])\n",
    "\n",
    "# Print the results\n",
    "print(combined_df[['question', 's_question', 'actual_answer', 'allow_forbid_1_answer', 'allow_forbid_2_answer', 'allow_forbid_0_answer', 'memorization']])\n"
   ]
  },
  {
   "cell_type": "code",
   "execution_count": 88,
   "metadata": {},
   "outputs": [
    {
     "name": "stdout",
     "output_type": "stream",
     "text": [
      "                                             question  \\\n",
      "0   In your opinion, should government do more to ...   \n",
      "1   For each, please indicate if you, personally, ...   \n",
      "2   For each, please indicate if you, personally, ...   \n",
      "3   For each, please indicate if you, personally, ...   \n",
      "4   Do you think it is necessary for the governmen...   \n",
      "..                                                ...   \n",
      "94  Do you think it's okay for people to feed wild...   \n",
      "95  Is it acceptable for restaurants to refuse ser...   \n",
      "96  Do you think private companies should be allow...   \n",
      "97  Is it acceptable for cities to limit water usa...   \n",
      "98  Do you think it's acceptable for people to smo...   \n",
      "\n",
      "                                           s_question actual_answer  \\\n",
      "0   In your opinion, should government be fobidden...             A   \n",
      "1   For each, please indicate if you, personally, ...             B   \n",
      "2   For each, please indicate if you, personally, ...             B   \n",
      "3   For each, please indicate if you, personally, ...             A   \n",
      "4   Should the government be forbidden from provid...             A   \n",
      "..                                                ...           ...   \n",
      "94  Should people be forbidden from feeding wild a...             B   \n",
      "95  Should restaurants be forbidden from refusing ...             B   \n",
      "96  Should private companies be prohibited from ce...             B   \n",
      "97  Should cities be forbidden from limiting water...             A   \n",
      "98  Should smoking in designated outdoor public sm...             A   \n",
      "\n",
      "   allow_forbid_1_answer allow_forbid_2_answer allow_forbid_0_answer  \\\n",
      "0                      B                     B                     B   \n",
      "1                      A                     A                     A   \n",
      "2                      A                     A                     A   \n",
      "3                      A                     A                     A   \n",
      "4                      B                     B                     B   \n",
      "..                   ...                   ...                   ...   \n",
      "94                     A                     A                     A   \n",
      "95                     A                     B                     A   \n",
      "96                     A                     B                     A   \n",
      "97                     A                     A                     A   \n",
      "98                     B                     B                     B   \n",
      "\n",
      "    memorization  \n",
      "0           True  \n",
      "1           True  \n",
      "2           True  \n",
      "3           True  \n",
      "4           True  \n",
      "..           ...  \n",
      "94          True  \n",
      "95         False  \n",
      "96         False  \n",
      "97          True  \n",
      "98          True  \n",
      "\n",
      "[99 rows x 7 columns]\n"
     ]
    }
   ],
   "source": [
    "# Check if the three answers are the same for each question\n",
    "combined_df['memorization'] = (combined_df['allow_forbid_1_answer'] == combined_df['allow_forbid_2_answer']) & (combined_df['allow_forbid_2_answer'] == combined_df['allow_forbid_0_answer'])\n",
    "\n",
    "# Print the results\n",
    "print(combined_df[['question', 's_question', 'actual_answer', 'allow_forbid_1_answer', 'allow_forbid_2_answer', 'allow_forbid_0_answer', 'memorization']])\n"
   ]
  },
  {
   "cell_type": "code",
   "execution_count": 89,
   "metadata": {},
   "outputs": [
    {
     "data": {
      "application/vnd.plotly.v1+json": {
       "config": {
        "plotlyServerURL": "https://plot.ly"
       },
       "data": [
        {
         "hoverinfo": "y",
         "marker": {
          "color": [
           3,
           3,
           3,
           3,
           3,
           2,
           3,
           3,
           3,
           3,
           3,
           3,
           3,
           3,
           3,
           3,
           3,
           3,
           3,
           3,
           3,
           2,
           3,
           3,
           3,
           3,
           3,
           3,
           3,
           3,
           3,
           3,
           3,
           3,
           3,
           3,
           3,
           3,
           3,
           3,
           3,
           2,
           3,
           3,
           3,
           3,
           3,
           3,
           3,
           3,
           2,
           3,
           3,
           3,
           3,
           3,
           3,
           3,
           3,
           3,
           3,
           3,
           3,
           3,
           3,
           3,
           3,
           1,
           3,
           3,
           3,
           3,
           3,
           3,
           3,
           3,
           3,
           3,
           1,
           3,
           3,
           3,
           3,
           3,
           3,
           3,
           3,
           3,
           3,
           3,
           3,
           3,
           3,
           3,
           3,
           2,
           2,
           3,
           3
          ],
          "colorscale": [
           [
            0,
            "#440154"
           ],
           [
            0.1111111111111111,
            "#482878"
           ],
           [
            0.2222222222222222,
            "#3e4989"
           ],
           [
            0.3333333333333333,
            "#31688e"
           ],
           [
            0.4444444444444444,
            "#26828e"
           ],
           [
            0.5555555555555556,
            "#1f9e89"
           ],
           [
            0.6666666666666666,
            "#35b779"
           ],
           [
            0.7777777777777778,
            "#6ece58"
           ],
           [
            0.8888888888888888,
            "#b5de2b"
           ],
           [
            1,
            "#fde725"
           ]
          ]
         },
         "text": [
          3,
          3,
          3,
          3,
          3,
          2,
          3,
          3,
          3,
          3,
          3,
          3,
          3,
          3,
          3,
          3,
          3,
          3,
          3,
          3,
          3,
          2,
          3,
          3,
          3,
          3,
          3,
          3,
          3,
          3,
          3,
          3,
          3,
          3,
          3,
          3,
          3,
          3,
          3,
          3,
          3,
          2,
          3,
          3,
          3,
          3,
          3,
          3,
          3,
          3,
          2,
          3,
          3,
          3,
          3,
          3,
          3,
          3,
          3,
          3,
          3,
          3,
          3,
          3,
          3,
          3,
          3,
          1,
          3,
          3,
          3,
          3,
          3,
          3,
          3,
          3,
          3,
          3,
          1,
          3,
          3,
          3,
          3,
          3,
          3,
          3,
          3,
          3,
          3,
          3,
          3,
          3,
          3,
          3,
          3,
          2,
          2,
          3,
          3
         ],
         "textposition": "outside",
         "type": "bar",
         "x": [
          0,
          1,
          2,
          3,
          4,
          5,
          6,
          7,
          8,
          9,
          10,
          11,
          12,
          13,
          14,
          15,
          16,
          17,
          18,
          19,
          20,
          21,
          22,
          23,
          24,
          25,
          26,
          27,
          28,
          29,
          30,
          31,
          32,
          33,
          34,
          35,
          36,
          37,
          38,
          39,
          40,
          41,
          42,
          43,
          44,
          45,
          46,
          47,
          48,
          49,
          50,
          51,
          52,
          53,
          54,
          55,
          56,
          57,
          58,
          59,
          60,
          61,
          62,
          63,
          64,
          65,
          66,
          67,
          68,
          69,
          70,
          71,
          72,
          73,
          74,
          75,
          76,
          77,
          78,
          79,
          80,
          81,
          82,
          83,
          84,
          85,
          86,
          87,
          88,
          89,
          90,
          91,
          92,
          93,
          94,
          95,
          96,
          97,
          98
         ],
         "y": [
          3,
          3,
          3,
          3,
          3,
          2,
          3,
          3,
          3,
          3,
          3,
          3,
          3,
          3,
          3,
          3,
          3,
          3,
          3,
          3,
          3,
          2,
          3,
          3,
          3,
          3,
          3,
          3,
          3,
          3,
          3,
          3,
          3,
          3,
          3,
          3,
          3,
          3,
          3,
          3,
          3,
          2,
          3,
          3,
          3,
          3,
          3,
          3,
          3,
          3,
          2,
          3,
          3,
          3,
          3,
          3,
          3,
          3,
          3,
          3,
          3,
          3,
          3,
          3,
          3,
          3,
          3,
          1,
          3,
          3,
          3,
          3,
          3,
          3,
          3,
          3,
          3,
          3,
          1,
          3,
          3,
          3,
          3,
          3,
          3,
          3,
          3,
          3,
          3,
          3,
          3,
          3,
          3,
          3,
          3,
          2,
          2,
          3,
          3
         ]
        }
       ],
       "layout": {
        "hovermode": "closest",
        "template": {
         "data": {
          "bar": [
           {
            "error_x": {
             "color": "#2a3f5f"
            },
            "error_y": {
             "color": "#2a3f5f"
            },
            "marker": {
             "line": {
              "color": "#E5ECF6",
              "width": 0.5
             },
             "pattern": {
              "fillmode": "overlay",
              "size": 10,
              "solidity": 0.2
             }
            },
            "type": "bar"
           }
          ],
          "barpolar": [
           {
            "marker": {
             "line": {
              "color": "#E5ECF6",
              "width": 0.5
             },
             "pattern": {
              "fillmode": "overlay",
              "size": 10,
              "solidity": 0.2
             }
            },
            "type": "barpolar"
           }
          ],
          "carpet": [
           {
            "aaxis": {
             "endlinecolor": "#2a3f5f",
             "gridcolor": "white",
             "linecolor": "white",
             "minorgridcolor": "white",
             "startlinecolor": "#2a3f5f"
            },
            "baxis": {
             "endlinecolor": "#2a3f5f",
             "gridcolor": "white",
             "linecolor": "white",
             "minorgridcolor": "white",
             "startlinecolor": "#2a3f5f"
            },
            "type": "carpet"
           }
          ],
          "choropleth": [
           {
            "colorbar": {
             "outlinewidth": 0,
             "ticks": ""
            },
            "type": "choropleth"
           }
          ],
          "contour": [
           {
            "colorbar": {
             "outlinewidth": 0,
             "ticks": ""
            },
            "colorscale": [
             [
              0,
              "#0d0887"
             ],
             [
              0.1111111111111111,
              "#46039f"
             ],
             [
              0.2222222222222222,
              "#7201a8"
             ],
             [
              0.3333333333333333,
              "#9c179e"
             ],
             [
              0.4444444444444444,
              "#bd3786"
             ],
             [
              0.5555555555555556,
              "#d8576b"
             ],
             [
              0.6666666666666666,
              "#ed7953"
             ],
             [
              0.7777777777777778,
              "#fb9f3a"
             ],
             [
              0.8888888888888888,
              "#fdca26"
             ],
             [
              1,
              "#f0f921"
             ]
            ],
            "type": "contour"
           }
          ],
          "contourcarpet": [
           {
            "colorbar": {
             "outlinewidth": 0,
             "ticks": ""
            },
            "type": "contourcarpet"
           }
          ],
          "heatmap": [
           {
            "colorbar": {
             "outlinewidth": 0,
             "ticks": ""
            },
            "colorscale": [
             [
              0,
              "#0d0887"
             ],
             [
              0.1111111111111111,
              "#46039f"
             ],
             [
              0.2222222222222222,
              "#7201a8"
             ],
             [
              0.3333333333333333,
              "#9c179e"
             ],
             [
              0.4444444444444444,
              "#bd3786"
             ],
             [
              0.5555555555555556,
              "#d8576b"
             ],
             [
              0.6666666666666666,
              "#ed7953"
             ],
             [
              0.7777777777777778,
              "#fb9f3a"
             ],
             [
              0.8888888888888888,
              "#fdca26"
             ],
             [
              1,
              "#f0f921"
             ]
            ],
            "type": "heatmap"
           }
          ],
          "heatmapgl": [
           {
            "colorbar": {
             "outlinewidth": 0,
             "ticks": ""
            },
            "colorscale": [
             [
              0,
              "#0d0887"
             ],
             [
              0.1111111111111111,
              "#46039f"
             ],
             [
              0.2222222222222222,
              "#7201a8"
             ],
             [
              0.3333333333333333,
              "#9c179e"
             ],
             [
              0.4444444444444444,
              "#bd3786"
             ],
             [
              0.5555555555555556,
              "#d8576b"
             ],
             [
              0.6666666666666666,
              "#ed7953"
             ],
             [
              0.7777777777777778,
              "#fb9f3a"
             ],
             [
              0.8888888888888888,
              "#fdca26"
             ],
             [
              1,
              "#f0f921"
             ]
            ],
            "type": "heatmapgl"
           }
          ],
          "histogram": [
           {
            "marker": {
             "pattern": {
              "fillmode": "overlay",
              "size": 10,
              "solidity": 0.2
             }
            },
            "type": "histogram"
           }
          ],
          "histogram2d": [
           {
            "colorbar": {
             "outlinewidth": 0,
             "ticks": ""
            },
            "colorscale": [
             [
              0,
              "#0d0887"
             ],
             [
              0.1111111111111111,
              "#46039f"
             ],
             [
              0.2222222222222222,
              "#7201a8"
             ],
             [
              0.3333333333333333,
              "#9c179e"
             ],
             [
              0.4444444444444444,
              "#bd3786"
             ],
             [
              0.5555555555555556,
              "#d8576b"
             ],
             [
              0.6666666666666666,
              "#ed7953"
             ],
             [
              0.7777777777777778,
              "#fb9f3a"
             ],
             [
              0.8888888888888888,
              "#fdca26"
             ],
             [
              1,
              "#f0f921"
             ]
            ],
            "type": "histogram2d"
           }
          ],
          "histogram2dcontour": [
           {
            "colorbar": {
             "outlinewidth": 0,
             "ticks": ""
            },
            "colorscale": [
             [
              0,
              "#0d0887"
             ],
             [
              0.1111111111111111,
              "#46039f"
             ],
             [
              0.2222222222222222,
              "#7201a8"
             ],
             [
              0.3333333333333333,
              "#9c179e"
             ],
             [
              0.4444444444444444,
              "#bd3786"
             ],
             [
              0.5555555555555556,
              "#d8576b"
             ],
             [
              0.6666666666666666,
              "#ed7953"
             ],
             [
              0.7777777777777778,
              "#fb9f3a"
             ],
             [
              0.8888888888888888,
              "#fdca26"
             ],
             [
              1,
              "#f0f921"
             ]
            ],
            "type": "histogram2dcontour"
           }
          ],
          "mesh3d": [
           {
            "colorbar": {
             "outlinewidth": 0,
             "ticks": ""
            },
            "type": "mesh3d"
           }
          ],
          "parcoords": [
           {
            "line": {
             "colorbar": {
              "outlinewidth": 0,
              "ticks": ""
             }
            },
            "type": "parcoords"
           }
          ],
          "pie": [
           {
            "automargin": true,
            "type": "pie"
           }
          ],
          "scatter": [
           {
            "fillpattern": {
             "fillmode": "overlay",
             "size": 10,
             "solidity": 0.2
            },
            "type": "scatter"
           }
          ],
          "scatter3d": [
           {
            "line": {
             "colorbar": {
              "outlinewidth": 0,
              "ticks": ""
             }
            },
            "marker": {
             "colorbar": {
              "outlinewidth": 0,
              "ticks": ""
             }
            },
            "type": "scatter3d"
           }
          ],
          "scattercarpet": [
           {
            "marker": {
             "colorbar": {
              "outlinewidth": 0,
              "ticks": ""
             }
            },
            "type": "scattercarpet"
           }
          ],
          "scattergeo": [
           {
            "marker": {
             "colorbar": {
              "outlinewidth": 0,
              "ticks": ""
             }
            },
            "type": "scattergeo"
           }
          ],
          "scattergl": [
           {
            "marker": {
             "colorbar": {
              "outlinewidth": 0,
              "ticks": ""
             }
            },
            "type": "scattergl"
           }
          ],
          "scattermapbox": [
           {
            "marker": {
             "colorbar": {
              "outlinewidth": 0,
              "ticks": ""
             }
            },
            "type": "scattermapbox"
           }
          ],
          "scatterpolar": [
           {
            "marker": {
             "colorbar": {
              "outlinewidth": 0,
              "ticks": ""
             }
            },
            "type": "scatterpolar"
           }
          ],
          "scatterpolargl": [
           {
            "marker": {
             "colorbar": {
              "outlinewidth": 0,
              "ticks": ""
             }
            },
            "type": "scatterpolargl"
           }
          ],
          "scatterternary": [
           {
            "marker": {
             "colorbar": {
              "outlinewidth": 0,
              "ticks": ""
             }
            },
            "type": "scatterternary"
           }
          ],
          "surface": [
           {
            "colorbar": {
             "outlinewidth": 0,
             "ticks": ""
            },
            "colorscale": [
             [
              0,
              "#0d0887"
             ],
             [
              0.1111111111111111,
              "#46039f"
             ],
             [
              0.2222222222222222,
              "#7201a8"
             ],
             [
              0.3333333333333333,
              "#9c179e"
             ],
             [
              0.4444444444444444,
              "#bd3786"
             ],
             [
              0.5555555555555556,
              "#d8576b"
             ],
             [
              0.6666666666666666,
              "#ed7953"
             ],
             [
              0.7777777777777778,
              "#fb9f3a"
             ],
             [
              0.8888888888888888,
              "#fdca26"
             ],
             [
              1,
              "#f0f921"
             ]
            ],
            "type": "surface"
           }
          ],
          "table": [
           {
            "cells": {
             "fill": {
              "color": "#EBF0F8"
             },
             "line": {
              "color": "white"
             }
            },
            "header": {
             "fill": {
              "color": "#C8D4E3"
             },
             "line": {
              "color": "white"
             }
            },
            "type": "table"
           }
          ]
         },
         "layout": {
          "annotationdefaults": {
           "arrowcolor": "#2a3f5f",
           "arrowhead": 0,
           "arrowwidth": 1
          },
          "autotypenumbers": "strict",
          "coloraxis": {
           "colorbar": {
            "outlinewidth": 0,
            "ticks": ""
           }
          },
          "colorscale": {
           "diverging": [
            [
             0,
             "#8e0152"
            ],
            [
             0.1,
             "#c51b7d"
            ],
            [
             0.2,
             "#de77ae"
            ],
            [
             0.3,
             "#f1b6da"
            ],
            [
             0.4,
             "#fde0ef"
            ],
            [
             0.5,
             "#f7f7f7"
            ],
            [
             0.6,
             "#e6f5d0"
            ],
            [
             0.7,
             "#b8e186"
            ],
            [
             0.8,
             "#7fbc41"
            ],
            [
             0.9,
             "#4d9221"
            ],
            [
             1,
             "#276419"
            ]
           ],
           "sequential": [
            [
             0,
             "#0d0887"
            ],
            [
             0.1111111111111111,
             "#46039f"
            ],
            [
             0.2222222222222222,
             "#7201a8"
            ],
            [
             0.3333333333333333,
             "#9c179e"
            ],
            [
             0.4444444444444444,
             "#bd3786"
            ],
            [
             0.5555555555555556,
             "#d8576b"
            ],
            [
             0.6666666666666666,
             "#ed7953"
            ],
            [
             0.7777777777777778,
             "#fb9f3a"
            ],
            [
             0.8888888888888888,
             "#fdca26"
            ],
            [
             1,
             "#f0f921"
            ]
           ],
           "sequentialminus": [
            [
             0,
             "#0d0887"
            ],
            [
             0.1111111111111111,
             "#46039f"
            ],
            [
             0.2222222222222222,
             "#7201a8"
            ],
            [
             0.3333333333333333,
             "#9c179e"
            ],
            [
             0.4444444444444444,
             "#bd3786"
            ],
            [
             0.5555555555555556,
             "#d8576b"
            ],
            [
             0.6666666666666666,
             "#ed7953"
            ],
            [
             0.7777777777777778,
             "#fb9f3a"
            ],
            [
             0.8888888888888888,
             "#fdca26"
            ],
            [
             1,
             "#f0f921"
            ]
           ]
          },
          "colorway": [
           "#636efa",
           "#EF553B",
           "#00cc96",
           "#ab63fa",
           "#FFA15A",
           "#19d3f3",
           "#FF6692",
           "#B6E880",
           "#FF97FF",
           "#FECB52"
          ],
          "font": {
           "color": "#2a3f5f"
          },
          "geo": {
           "bgcolor": "white",
           "lakecolor": "white",
           "landcolor": "#E5ECF6",
           "showlakes": true,
           "showland": true,
           "subunitcolor": "white"
          },
          "hoverlabel": {
           "align": "left"
          },
          "hovermode": "closest",
          "mapbox": {
           "style": "light"
          },
          "paper_bgcolor": "white",
          "plot_bgcolor": "#E5ECF6",
          "polar": {
           "angularaxis": {
            "gridcolor": "white",
            "linecolor": "white",
            "ticks": ""
           },
           "bgcolor": "#E5ECF6",
           "radialaxis": {
            "gridcolor": "white",
            "linecolor": "white",
            "ticks": ""
           }
          },
          "scene": {
           "xaxis": {
            "backgroundcolor": "#E5ECF6",
            "gridcolor": "white",
            "gridwidth": 2,
            "linecolor": "white",
            "showbackground": true,
            "ticks": "",
            "zerolinecolor": "white"
           },
           "yaxis": {
            "backgroundcolor": "#E5ECF6",
            "gridcolor": "white",
            "gridwidth": 2,
            "linecolor": "white",
            "showbackground": true,
            "ticks": "",
            "zerolinecolor": "white"
           },
           "zaxis": {
            "backgroundcolor": "#E5ECF6",
            "gridcolor": "white",
            "gridwidth": 2,
            "linecolor": "white",
            "showbackground": true,
            "ticks": "",
            "zerolinecolor": "white"
           }
          },
          "shapedefaults": {
           "line": {
            "color": "#2a3f5f"
           }
          },
          "ternary": {
           "aaxis": {
            "gridcolor": "white",
            "linecolor": "white",
            "ticks": ""
           },
           "baxis": {
            "gridcolor": "white",
            "linecolor": "white",
            "ticks": ""
           },
           "bgcolor": "#E5ECF6",
           "caxis": {
            "gridcolor": "white",
            "linecolor": "white",
            "ticks": ""
           }
          },
          "title": {
           "x": 0.05
          },
          "xaxis": {
           "automargin": true,
           "gridcolor": "white",
           "linecolor": "white",
           "ticks": "",
           "title": {
            "standoff": 15
           },
           "zerolinecolor": "white",
           "zerolinewidth": 2
          },
          "yaxis": {
           "automargin": true,
           "gridcolor": "white",
           "linecolor": "white",
           "ticks": "",
           "title": {
            "standoff": 15
           },
           "zerolinecolor": "white",
           "zerolinewidth": 2
          }
         }
        },
        "title": {
         "text": "Memorization Analysis"
        },
        "xaxis": {
         "title": {
          "text": "Question Index"
         }
        },
        "yaxis": {
         "title": {
          "text": "Number of Answers Matching"
         }
        }
       }
      }
     },
     "metadata": {},
     "output_type": "display_data"
    }
   ],
   "source": [
    "import plotly.graph_objs as go\n",
    "\n",
    "# Calculate the number of matches for each question\n",
    "combined_df['memorization_count'] = combined_df[['allow_forbid_1_answer', 'allow_forbid_2_answer', 'allow_forbid_0_answer']].apply(lambda x: sum(x == x[0]), axis=1)\n",
    "\n",
    "# Create a bar chart\n",
    "bar_trace = go.Bar(x=combined_df.index,\n",
    "                   y=combined_df['memorization_count'],\n",
    "                   marker=dict(color=combined_df['memorization_count'], colorscale='Viridis'),\n",
    "                   hoverinfo='y',\n",
    "                   text=combined_df['memorization_count'],\n",
    "                   textposition='outside')\n",
    "\n",
    "# Create the layout\n",
    "layout = go.Layout(title='Memorization Analysis',\n",
    "                   xaxis=dict(title='Question Index'),\n",
    "                   yaxis=dict(title='Number of Answers Matching'),\n",
    "                   hovermode='closest')\n",
    "\n",
    "# Create the figure\n",
    "fig = go.Figure(data=[bar_trace], layout=layout)\n",
    "\n",
    "# Show the interactive plot\n",
    "fig.show()\n"
   ]
  },
  {
   "cell_type": "markdown",
   "metadata": {},
   "source": [
    "#### In this visualization:\n",
    "1. Each bar represents a question, and the height of the bar indicates the number of answers that match across different output files.\n",
    "2. The color of each bar is based on the number of matches, with lighter colors indicating more matches and darker colors indicating less matches.\n",
    "3. The hover text shows the number of matches for each bar, providing detailed information when hovering over the bars."
   ]
  },
  {
   "cell_type": "markdown",
   "metadata": {},
   "source": [
    "1. Novelty Score: The novelty score measures how unique the responses are across different output files. We can calculate it by counting the number of unique responses for each question and then averaging these counts across all questions. A higher novelty score indicates a lower degree of memorization.\n",
    "\n",
    "2. Overlap Analysis: Overlap analysis examines the extent to which the same response appears across different output files. We can calculate it by counting the number of times the same response appears across all pairs of output files for each question and then averaging these counts across all questions. A higher overlap indicates a higher degree of memorization."
   ]
  },
  {
   "cell_type": "code",
   "execution_count": 90,
   "metadata": {},
   "outputs": [
    {
     "name": "stdout",
     "output_type": "stream",
     "text": [
      "Novelty Score: 1.0808080808080809\n",
      "Overlap Analysis: 1.898989898989899\n"
     ]
    }
   ],
   "source": [
    "# Calculate the novelty score\n",
    "novelty_scores = combined_df[['allow_forbid_1_answer', 'allow_forbid_2_answer', 'allow_forbid_0_answer']].apply(lambda x: len(set(x)), axis=1).mean()\n",
    "\n",
    "# Calculate the overlap analysis\n",
    "overlap_counts = combined_df[['allow_forbid_1_answer', 'allow_forbid_2_answer', 'allow_forbid_0_answer']].apply(lambda x: sum(x == x[0]) - 1, axis=1)\n",
    "overlap_analysis = overlap_counts.mean()\n",
    "\n",
    "print(\"Novelty Score:\", novelty_scores)\n",
    "print(\"Overlap Analysis:\", overlap_analysis)\n"
   ]
  },
  {
   "cell_type": "markdown",
   "metadata": {},
   "source": [
    "A novelty score of 1.08 indicates that, on average, each question has approximately 1.08 unique responses across the three output files. This suggests that there is a low level of uniqueness in the responses compared to ChatGPT, as the average number of unique responses per question is near to 1. This could indicate that the model tends to produce similar or repetitive responses for different variations of the input questions."
   ]
  },
  {
   "cell_type": "markdown",
   "metadata": {},
   "source": [
    "An overlap analysis score of 1.90 reveals that there is a considerable degree of redundancy or repetition in the answers generated by Claude LLM compared to ChatGPT. This indicates that there is a significant overlap in the responses provided by the model across the different scenarios. A higher overlap analysis score which is greater than ChatGPT implies a higher degree of memorization, as the same response appears frequently across different output files."
   ]
  },
  {
   "cell_type": "markdown",
   "metadata": {},
   "source": [
    "In conclusion:\n",
    "\n",
    "1. The novelty score suggests that there is higher degree of uniqueness in the model's responses, indicating more memorization capabilities compared to ChatGPT\n",
    "2. The overlap analysis score suggests that there is a higher degree of consistency or redundancy in the model's responses, indicating more memorization.\n"
   ]
  },
  {
   "cell_type": "markdown",
   "metadata": {},
   "source": [
    "#### Overall, both models exhibit some level of memorization, as indicated by the novelty score and overlap analysis scores. However, Claude demonstrates a higher degree of overlap and less novelty in its responses, suggesting a potentially more memorization capability compared to ChatGPT."
   ]
  }
 ],
 "metadata": {
  "kernelspec": {
   "display_name": "Python 3 (ipykernel)",
   "language": "python",
   "name": "python3"
  },
  "language_info": {
   "codemirror_mode": {
    "name": "ipython",
    "version": 3
   },
   "file_extension": ".py",
   "mimetype": "text/x-python",
   "name": "python",
   "nbconvert_exporter": "python",
   "pygments_lexer": "ipython3",
   "version": "3.11.4"
  }
 },
 "nbformat": 4,
 "nbformat_minor": 2
}
